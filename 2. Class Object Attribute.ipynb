{
 "cells": [
  {
   "cell_type": "code",
   "execution_count": 1,
   "id": "dfba1c7b",
   "metadata": {
    "scrolled": true
   },
   "outputs": [
    {
     "name": "stdout",
     "output_type": "stream",
     "text": [
      "True\n",
      "Monk\n",
      "True\n",
      "98\n",
      "My name is Monk & my age is 90\n",
      "My name is John Cena & my age is 98\n"
     ]
    }
   ],
   "source": [
    "class PlayerCharacter:\n",
    "    # membership is Class Object Attribute\n",
    "    membership = True\n",
    "    def __init__(self, name, age):\n",
    "        if(PlayerCharacter.membership):\n",
    "            self.name = name #These are Attributes or Instance attributes\n",
    "            self.age = age\n",
    "        \n",
    "        \n",
    "    def shout(self): #method\n",
    "        print(f'My name is {self.name} & my age is {self.age}')\n",
    "        \n",
    "               \n",
    "    def scream(self): \n",
    "        print(f'My name is {PlayerCharacter.name} & my age is {PlayerCharacter.age}')\n",
    "        \n",
    "player1 = PlayerCharacter(\"Monk\", 90)\n",
    "    \n",
    "\n",
    "player2 = PlayerCharacter(\"John Cena\", 98)\n",
    "player2.attack = 50\n",
    "\n",
    "print(player1.membership)\n",
    "print(player2.age)\n",
    "\n",
    "\n",
    "player1.shout()\n",
    "player2.shout()\n"
   ]
  },
  {
   "cell_type": "code",
   "execution_count": 2,
   "id": "3e268f91",
   "metadata": {
    "scrolled": true
   },
   "outputs": [
    {
     "ename": "AttributeError",
     "evalue": "type object 'PlayerCharacter' has no attribute 'name'",
     "output_type": "error",
     "traceback": [
      "\u001b[1;31m---------------------------------------------------------------------------\u001b[0m",
      "\u001b[1;31mAttributeError\u001b[0m                            Traceback (most recent call last)",
      "Input \u001b[1;32mIn [2]\u001b[0m, in \u001b[0;36m<cell line: 2>\u001b[1;34m()\u001b[0m\n\u001b[0;32m      1\u001b[0m \u001b[38;5;66;03m#But this will give an error\u001b[39;00m\n\u001b[1;32m----> 2\u001b[0m \u001b[43mplayer1\u001b[49m\u001b[38;5;241;43m.\u001b[39;49m\u001b[43mscream\u001b[49m\u001b[43m(\u001b[49m\u001b[43m)\u001b[49m\n",
      "Input \u001b[1;32mIn [1]\u001b[0m, in \u001b[0;36mPlayerCharacter.scream\u001b[1;34m(self)\u001b[0m\n\u001b[0;32m     14\u001b[0m \u001b[38;5;28;01mdef\u001b[39;00m \u001b[38;5;21mscream\u001b[39m(\u001b[38;5;28mself\u001b[39m): \n\u001b[1;32m---> 15\u001b[0m     \u001b[38;5;28mprint\u001b[39m(\u001b[38;5;124mf\u001b[39m\u001b[38;5;124m'\u001b[39m\u001b[38;5;124mMy name is \u001b[39m\u001b[38;5;132;01m{\u001b[39;00mPlayerCharacter\u001b[38;5;241m.\u001b[39mname\u001b[38;5;132;01m}\u001b[39;00m\u001b[38;5;124m & my age is \u001b[39m\u001b[38;5;132;01m{\u001b[39;00mPlayerCharacter\u001b[38;5;241m.\u001b[39mage\u001b[38;5;132;01m}\u001b[39;00m\u001b[38;5;124m'\u001b[39m)\n",
      "\u001b[1;31mAttributeError\u001b[0m: type object 'PlayerCharacter' has no attribute 'name'"
     ]
    }
   ],
   "source": [
    "#But this will give an error\n",
    "player1.scream()"
   ]
  },
  {
   "cell_type": "code",
   "execution_count": null,
   "id": "5c721a36",
   "metadata": {},
   "outputs": [],
   "source": [
    "#It happened because name is not Class Object Attribute"
   ]
  }
 ],
 "metadata": {
  "kernelspec": {
   "display_name": "Python 3 (ipykernel)",
   "language": "python",
   "name": "python3"
  },
  "language_info": {
   "codemirror_mode": {
    "name": "ipython",
    "version": 3
   },
   "file_extension": ".py",
   "mimetype": "text/x-python",
   "name": "python",
   "nbconvert_exporter": "python",
   "pygments_lexer": "ipython3",
   "version": "3.9.12"
  }
 },
 "nbformat": 4,
 "nbformat_minor": 5
}
