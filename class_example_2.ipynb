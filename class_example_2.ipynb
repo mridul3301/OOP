{
 "cells": [
  {
   "cell_type": "code",
   "execution_count": 4,
   "id": "f69b65e6",
   "metadata": {},
   "outputs": [
    {
     "name": "stdout",
     "output_type": "stream",
     "text": [
      "logged in\n",
      "None\n"
     ]
    },
    {
     "ename": "AttributeError",
     "evalue": "'WizardZero' object has no attribute 'email'",
     "output_type": "error",
     "traceback": [
      "\u001b[1;31m---------------------------------------------------------------------------\u001b[0m",
      "\u001b[1;31mAttributeError\u001b[0m                            Traceback (most recent call last)",
      "Input \u001b[1;32mIn [4]\u001b[0m, in \u001b[0;36m<cell line: 19>\u001b[1;34m()\u001b[0m\n\u001b[0;32m     17\u001b[0m wizard_000 \u001b[38;5;241m=\u001b[39m WizardZero(\u001b[38;5;124m'\u001b[39m\u001b[38;5;124mABC\u001b[39m\u001b[38;5;124m'\u001b[39m, \u001b[38;5;241m90\u001b[39m)\n\u001b[0;32m     18\u001b[0m \u001b[38;5;28mprint\u001b[39m(wizard_000\u001b[38;5;241m.\u001b[39msign_in())\n\u001b[1;32m---> 19\u001b[0m \u001b[38;5;28mprint\u001b[39m(\u001b[43mwizard_000\u001b[49m\u001b[38;5;241;43m.\u001b[39;49m\u001b[43memail\u001b[49m)\n",
      "\u001b[1;31mAttributeError\u001b[0m: 'WizardZero' object has no attribute 'email'"
     ]
    }
   ],
   "source": [
    "class UserZero(object):\n",
    "    \n",
    "    def __init__(self, email):\n",
    "        self.email = email\n",
    "        \n",
    "    def sign_in(self):\n",
    "        print('logged in')\n",
    "        \n",
    "class WizardZero(UserZero):\n",
    "    def __init__(self, name, power):\n",
    "        self.name = name\n",
    "        self.power = power\n",
    "        \n",
    "    def attack(self):\n",
    "        print(f'Attacking with {self.power} power')\n",
    "        \n",
    "wizard_000 = WizardZero('ABC', 90)\n",
    "print(wizard_000.sign_in())\n",
    "print(wizard_000.email)"
   ]
  },
  {
   "cell_type": "markdown",
   "id": "5f980337",
   "metadata": {},
   "source": [
    "We got Error here but email is present in the Parent class. \"sign_in()\" function worked just above it but why is .email not working?                          \n",
    "This is because WizardZero does have it's own __init__.                                                                         We can solve this condition in following manner:"
   ]
  },
  {
   "cell_type": "code",
   "execution_count": 7,
   "id": "3a757f2e",
   "metadata": {},
   "outputs": [
    {
     "name": "stdout",
     "output_type": "stream",
     "text": [
      "abc@gmail.com\n"
     ]
    }
   ],
   "source": [
    "class UserOne(object):\n",
    "    \n",
    "    def __init__(self, email):\n",
    "        self.email = email\n",
    "        \n",
    "    def sign_in(self):\n",
    "        print('logged in')\n",
    "        \n",
    "class WizardOne(UserZero):\n",
    "    def __init__(self, name, power, email):\n",
    "        UserOne.__init__(self, email)\n",
    "        self.name = name\n",
    "        self.power = power\n",
    "        \n",
    "    def attack(self):\n",
    "        print(f'Attacking with {self.power} power')\n",
    "        \n",
    "wizard_001 = WizardOne('ABC', 90, 'abc@gmail.com')\n",
    "print(wizard_001.email)"
   ]
  },
  {
   "cell_type": "markdown",
   "id": "3c5f01cc",
   "metadata": {},
   "source": [
    "Here, we can provide the email as argument for the WizardOne class while creating object and email is accessible. \n",
    "                       But we can also do the same thing in different manner using super()."
   ]
  },
  {
   "cell_type": "code",
   "execution_count": 9,
   "id": "618e1c61",
   "metadata": {},
   "outputs": [
    {
     "name": "stdout",
     "output_type": "stream",
     "text": [
      "abc@gmail.com\n"
     ]
    }
   ],
   "source": [
    "class UserTwo(object):\n",
    "    \n",
    "    def __init__(self, email):\n",
    "        self.email = email\n",
    "        \n",
    "    def sign_in(self):\n",
    "        print('logged in')\n",
    "        \n",
    "class WizardTwo(UserTwo):\n",
    "    def __init__(self, name, power, email):\n",
    "        super().__init__(email)\n",
    "        self.name = name\n",
    "        self.power = power\n",
    "        \n",
    "    def attack(self):\n",
    "        print(f'Attacking with {self.power} power')\n",
    "        \n",
    "wizard_002 = WizardTwo('ABC', 90, 'abc@gmail.com')\n",
    "print(wizard_002.email)"
   ]
  },
  {
   "cell_type": "code",
   "execution_count": null,
   "id": "b268e636",
   "metadata": {},
   "outputs": [],
   "source": []
  }
 ],
 "metadata": {
  "kernelspec": {
   "display_name": "Python 3 (ipykernel)",
   "language": "python",
   "name": "python3"
  },
  "language_info": {
   "codemirror_mode": {
    "name": "ipython",
    "version": 3
   },
   "file_extension": ".py",
   "mimetype": "text/x-python",
   "name": "python",
   "nbconvert_exporter": "python",
   "pygments_lexer": "ipython3",
   "version": "3.9.12"
  }
 },
 "nbformat": 4,
 "nbformat_minor": 5
}
