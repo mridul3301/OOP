{
 "cells": [
  {
   "cell_type": "code",
   "execution_count": 1,
   "id": "0d909091",
   "metadata": {},
   "outputs": [],
   "source": [
    "class PlayerCharacter:\n",
    "    membership = True\n",
    "    def __init__(self, name, age):\n",
    "        if (PlayerCharacter.membership):\n",
    "            self.name = name\n",
    "            self.age = age\n",
    "            \n",
    "    def shout(self):\n",
    "        print(f'my name is {self.name}')\n",
    "        \n",
    "    #using decorators\n",
    "    @classmethod\n",
    "    def adding_things(cls, num1, num2):\n",
    "        return cls('mPayPal', num1+num2) #instantiating a class\n",
    "    \n",
    "player1 = PlayerCharacter.adding_things(45,54)\n",
    "\n",
    "print(player1)\n",
    "print(player1.name)\n",
    "print(player1.age)"
   ]
  }
 ],
 "metadata": {
  "kernelspec": {
   "display_name": "Python 3 (ipykernel)",
   "language": "python",
   "name": "python3"
  },
  "language_info": {
   "codemirror_mode": {
    "name": "ipython",
    "version": 3
   },
   "file_extension": ".py",
   "mimetype": "text/x-python",
   "name": "python",
   "nbconvert_exporter": "python",
   "pygments_lexer": "ipython3",
   "version": "3.9.12"
  }
 },
 "nbformat": 4,
 "nbformat_minor": 5
}
