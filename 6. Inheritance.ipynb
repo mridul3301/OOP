{
 "cells": [
  {
   "cell_type": "code",
   "execution_count": 8,
   "id": "63bee469",
   "metadata": {},
   "outputs": [],
   "source": [
    "\"\"\"\n",
    "User\n",
    "    -Wizard\n",
    "    -Archer\n",
    "\"\"\"\n",
    "class User():\n",
    "    def sign_in(self):\n",
    "        print('logged in')\n",
    "        \n",
    "class Wizard(User):\n",
    "    def __init__(self, name, power):\n",
    "        self.name = name\n",
    "        self.power = power\n",
    "        \n",
    "    def attack(self):\n",
    "        print(f'Attacking with the power of {self.power}')\n",
    "\n",
    "class Archer(User):\n",
    "    def __init__(self, name, num_of_arrows):\n",
    "        self.name = name\n",
    "        self.num_of_arrows = num_of_arrows\n",
    "        \n",
    "    def attack(self):\n",
    "        print(f'Attacking with the arrows: {self.num_of_arrows}')\n"
   ]
  },
  {
   "cell_type": "code",
   "execution_count": 9,
   "id": "a770a786",
   "metadata": {},
   "outputs": [],
   "source": [
    "wizard1 = Wizard(\"xyz\", 50)"
   ]
  },
  {
   "cell_type": "code",
   "execution_count": 10,
   "id": "acfb2453",
   "metadata": {},
   "outputs": [],
   "source": [
    "archer1 = Archer(\"abc\", 500)"
   ]
  },
  {
   "cell_type": "code",
   "execution_count": 11,
   "id": "237fc7e5",
   "metadata": {},
   "outputs": [
    {
     "data": {
      "text/plain": [
       "<__main__.Wizard at 0x228e28b5b50>"
      ]
     },
     "execution_count": 11,
     "metadata": {},
     "output_type": "execute_result"
    }
   ],
   "source": [
    "wizard1"
   ]
  },
  {
   "cell_type": "code",
   "execution_count": 12,
   "id": "f82877e4",
   "metadata": {},
   "outputs": [
    {
     "data": {
      "text/plain": [
       "'xyz'"
      ]
     },
     "execution_count": 12,
     "metadata": {},
     "output_type": "execute_result"
    }
   ],
   "source": [
    "wizard1.name"
   ]
  },
  {
   "cell_type": "code",
   "execution_count": 13,
   "id": "4062249c",
   "metadata": {},
   "outputs": [
    {
     "name": "stdout",
     "output_type": "stream",
     "text": [
      "Attacking with the power of 50\n"
     ]
    }
   ],
   "source": [
    "wizard1.attack()"
   ]
  },
  {
   "cell_type": "code",
   "execution_count": 14,
   "id": "28b4f482",
   "metadata": {},
   "outputs": [
    {
     "name": "stdout",
     "output_type": "stream",
     "text": [
      "logged in\n"
     ]
    }
   ],
   "source": [
    "archer1.sign_in()"
   ]
  },
  {
   "cell_type": "code",
   "execution_count": 15,
   "id": "d0e40790",
   "metadata": {},
   "outputs": [
    {
     "data": {
      "text/plain": [
       "'abc'"
      ]
     },
     "execution_count": 15,
     "metadata": {},
     "output_type": "execute_result"
    }
   ],
   "source": [
    "archer1.name"
   ]
  },
  {
   "cell_type": "code",
   "execution_count": 16,
   "id": "4f0a6393",
   "metadata": {},
   "outputs": [
    {
     "name": "stdout",
     "output_type": "stream",
     "text": [
      "Attacking with the arrows: 500\n"
     ]
    }
   ],
   "source": [
    "archer1.attack()"
   ]
  },
  {
   "cell_type": "code",
   "execution_count": null,
   "id": "5789cad1",
   "metadata": {},
   "outputs": [],
   "source": []
  }
 ],
 "metadata": {
  "kernelspec": {
   "display_name": "Python 3 (ipykernel)",
   "language": "python",
   "name": "python3"
  },
  "language_info": {
   "codemirror_mode": {
    "name": "ipython",
    "version": 3
   },
   "file_extension": ".py",
   "mimetype": "text/x-python",
   "name": "python",
   "nbconvert_exporter": "python",
   "pygments_lexer": "ipython3",
   "version": "3.9.12"
  }
 },
 "nbformat": 4,
 "nbformat_minor": 5
}
