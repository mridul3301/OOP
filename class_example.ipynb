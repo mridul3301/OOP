{
 "cells": [
  {
   "cell_type": "code",
   "execution_count": 1,
   "id": "390e56d8",
   "metadata": {},
   "outputs": [],
   "source": [
    "class Shirt:\n",
    "    \n",
    "    def __init__(self, shirt_color, shirt_size, shirt_style, shirt_price):\n",
    "        self.color = shirt_color\n",
    "        self.size = shirt_size\n",
    "        self.style = shirt_style\n",
    "        self.price = shirt_price\n",
    "        \n",
    "    def change_price(self, new_price):\n",
    "        self.price = new_price\n",
    "        \n",
    "    def discount(self, discount):\n",
    "        return self.price*(1-discount)"
   ]
  },
  {
   "cell_type": "code",
   "execution_count": 2,
   "id": "6797f43c",
   "metadata": {},
   "outputs": [
    {
     "data": {
      "text/plain": [
       "<__main__.Shirt at 0x20d4ff122e0>"
      ]
     },
     "execution_count": 2,
     "metadata": {},
     "output_type": "execute_result"
    }
   ],
   "source": [
    "Shirt(\"red\", 'S', 'short sleeve', 15)"
   ]
  },
  {
   "cell_type": "code",
   "execution_count": 3,
   "id": "6335291e",
   "metadata": {},
   "outputs": [],
   "source": [
    "shirt_001 = Shirt(\"red\", 'S', 'short sleeve', 15)"
   ]
  },
  {
   "cell_type": "code",
   "execution_count": 19,
   "id": "1078be80",
   "metadata": {},
   "outputs": [
    {
     "name": "stdout",
     "output_type": "stream",
     "text": [
      "red S short sleeve 15\n"
     ]
    }
   ],
   "source": [
    "print(shirt_001.color, shirt_001.size, shirt_001.style, shirt_001.price)"
   ]
  },
  {
   "cell_type": "code",
   "execution_count": 20,
   "id": "ee81e6eb",
   "metadata": {},
   "outputs": [],
   "source": [
    "shirt_001.change_price(40)"
   ]
  },
  {
   "cell_type": "code",
   "execution_count": 21,
   "id": "f523def7",
   "metadata": {},
   "outputs": [
    {
     "name": "stdout",
     "output_type": "stream",
     "text": [
      "red S short sleeve 40\n"
     ]
    }
   ],
   "source": [
    "print(shirt_001.color, shirt_001.size, shirt_001.style, shirt_001.price)"
   ]
  },
  {
   "cell_type": "code",
   "execution_count": 22,
   "id": "c6efa36b",
   "metadata": {},
   "outputs": [
    {
     "data": {
      "text/plain": [
       "36.0"
      ]
     },
     "execution_count": 22,
     "metadata": {},
     "output_type": "execute_result"
    }
   ],
   "source": [
    "shirt_001.discount(0.1)"
   ]
  },
  {
   "cell_type": "code",
   "execution_count": 23,
   "id": "9c2600b3",
   "metadata": {},
   "outputs": [],
   "source": [
    "shirt_collection = []\n",
    "\n",
    "shirt_001 = Shirt(\"red\", 'S', 'short sleeve', 15)\n",
    "shirt_002 = Shirt(\"black\", 'S', 'long sleeve', 25)\n",
    "shirt_003 = Shirt(\"blue\", 'XL', 'short sleeve', 85)\n",
    "\n",
    "shirt_collection.append(shirt_001)\n",
    "shirt_collection.append(shirt_002)\n",
    "shirt_collection.append(shirt_003)"
   ]
  },
  {
   "cell_type": "code",
   "execution_count": 24,
   "id": "89e5db3e",
   "metadata": {},
   "outputs": [
    {
     "name": "stdout",
     "output_type": "stream",
     "text": [
      "red\n",
      "black\n",
      "blue\n"
     ]
    }
   ],
   "source": [
    "for i in range(len(shirt_collection)):\n",
    "    print(shirt_collection[i].color)"
   ]
  },
  {
   "cell_type": "code",
   "execution_count": null,
   "id": "ca482b35",
   "metadata": {},
   "outputs": [],
   "source": []
  }
 ],
 "metadata": {
  "kernelspec": {
   "display_name": "Python 3 (ipykernel)",
   "language": "python",
   "name": "python3"
  },
  "language_info": {
   "codemirror_mode": {
    "name": "ipython",
    "version": 3
   },
   "file_extension": ".py",
   "mimetype": "text/x-python",
   "name": "python",
   "nbconvert_exporter": "python",
   "pygments_lexer": "ipython3",
   "version": "3.9.12"
  }
 },
 "nbformat": 4,
 "nbformat_minor": 5
}
