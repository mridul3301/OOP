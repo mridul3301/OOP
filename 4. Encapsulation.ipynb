{
 "cells": [
  {
   "cell_type": "code",
   "execution_count": 3,
   "id": "f3faac18",
   "metadata": {},
   "outputs": [
    {
     "name": "stdout",
     "output_type": "stream",
     "text": [
      "Bond 99\n",
      "Bourne 88\n",
      "Bond is running\n",
      "Bourne is running\n"
     ]
    }
   ],
   "source": [
    "#ENCAPSULATION\n",
    "\n",
    "class PlayerCharacter:\n",
    "    def __init__(self, name, age):\n",
    "        self.name = name #attributes\n",
    "        self.age = age\n",
    "        \n",
    "    def run(self):  #method\n",
    "        print(f'{self.name} is running')\n",
    "        \n",
    "player1 = PlayerCharacter('Bond', 99)\n",
    "\n",
    "player2 = PlayerCharacter('Bourne', 88)\n",
    "\n",
    "print(player1.name, player1.age)\n",
    "print(player2.name, player2.age)\n",
    "\n",
    "player1.run()\n",
    "player2.run()\n"
   ]
  },
  {
   "cell_type": "code",
   "execution_count": null,
   "id": "e44800bf",
   "metadata": {},
   "outputs": [],
   "source": []
  }
 ],
 "metadata": {
  "kernelspec": {
   "display_name": "Python 3 (ipykernel)",
   "language": "python",
   "name": "python3"
  },
  "language_info": {
   "codemirror_mode": {
    "name": "ipython",
    "version": 3
   },
   "file_extension": ".py",
   "mimetype": "text/x-python",
   "name": "python",
   "nbconvert_exporter": "python",
   "pygments_lexer": "ipython3",
   "version": "3.9.12"
  }
 },
 "nbformat": 4,
 "nbformat_minor": 5
}
