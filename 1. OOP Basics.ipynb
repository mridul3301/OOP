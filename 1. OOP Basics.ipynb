{
 "cells": [
  {
   "cell_type": "code",
   "execution_count": 1,
   "id": "51ad2b9a",
   "metadata": {},
   "outputs": [
    {
     "name": "stdout",
     "output_type": "stream",
     "text": [
      "<__main__.PlayerCharacter object at 0x000001FCD7BA0F10>\n"
     ]
    }
   ],
   "source": [
    "class PlayerCharacter:\n",
    "    def __init__(self, name, age):\n",
    "        self.name = name\n",
    "        self.age = age\n",
    "        \n",
    "    def run(self):\n",
    "        print('running is good for health')\n",
    "        \n",
    "player1 = PlayerCharacter(\"Monk\", 90) #creating object\n",
    "    \n",
    "print(player1)"
   ]
  },
  {
   "cell_type": "code",
   "execution_count": null,
   "id": "f43ea87d",
   "metadata": {},
   "outputs": [],
   "source": [
    "#\"<__main__.PlayerCharacter object at 0x000001FCD7BA0F10>\" \n",
    "#This is the information of the object created"
   ]
  },
  {
   "cell_type": "code",
   "execution_count": 2,
   "id": "71505c87",
   "metadata": {
    "scrolled": true
   },
   "outputs": [
    {
     "name": "stdout",
     "output_type": "stream",
     "text": [
      "running is good for health\n"
     ]
    }
   ],
   "source": [
    "player1.run()"
   ]
  },
  {
   "cell_type": "code",
   "execution_count": 7,
   "id": "ff04b3e7",
   "metadata": {},
   "outputs": [
    {
     "name": "stdout",
     "output_type": "stream",
     "text": [
      "Monk\n",
      "90\n"
     ]
    }
   ],
   "source": [
    "print(player1.name)\n",
    "print(player1.age)"
   ]
  },
  {
   "cell_type": "code",
   "execution_count": 4,
   "id": "8cebffba",
   "metadata": {},
   "outputs": [],
   "source": [
    "player2 = PlayerCharacter(\"John Cena\", 98) \n",
    "#creating another object"
   ]
  },
  {
   "cell_type": "code",
   "execution_count": 5,
   "id": "d21bc395",
   "metadata": {},
   "outputs": [
    {
     "name": "stdout",
     "output_type": "stream",
     "text": [
      "running is good for health\n"
     ]
    }
   ],
   "source": [
    "player2.run()"
   ]
  },
  {
   "cell_type": "code",
   "execution_count": 6,
   "id": "660e008f",
   "metadata": {},
   "outputs": [
    {
     "data": {
      "text/plain": [
       "98"
      ]
     },
     "execution_count": 6,
     "metadata": {},
     "output_type": "execute_result"
    }
   ],
   "source": [
    "print(player2.name)\n",
    "print(player2.age)"
   ]
  },
  {
   "cell_type": "code",
   "execution_count": 8,
   "id": "aa31f264",
   "metadata": {},
   "outputs": [
    {
     "name": "stdout",
     "output_type": "stream",
     "text": [
      "<__main__.PlayerCharacter object at 0x000001FCD7BA0F10>\n",
      "<__main__.PlayerCharacter object at 0x000001FCD7BA0760>\n"
     ]
    }
   ],
   "source": [
    "print(player1)\n",
    "print(player2)"
   ]
  },
  {
   "cell_type": "code",
   "execution_count": 9,
   "id": "9bb755b3",
   "metadata": {},
   "outputs": [],
   "source": [
    "player2.attack = 50"
   ]
  },
  {
   "cell_type": "code",
   "execution_count": 10,
   "id": "efb9bd3c",
   "metadata": {},
   "outputs": [
    {
     "name": "stdout",
     "output_type": "stream",
     "text": [
      "50\n"
     ]
    }
   ],
   "source": [
    "print(player2.attack)"
   ]
  },
  {
   "cell_type": "code",
   "execution_count": 11,
   "id": "7c5facb4",
   "metadata": {
    "scrolled": true
   },
   "outputs": [
    {
     "ename": "AttributeError",
     "evalue": "'PlayerCharacter' object has no attribute 'attack'",
     "output_type": "error",
     "traceback": [
      "\u001b[1;31m---------------------------------------------------------------------------\u001b[0m",
      "\u001b[1;31mAttributeError\u001b[0m                            Traceback (most recent call last)",
      "Input \u001b[1;32mIn [11]\u001b[0m, in \u001b[0;36m<cell line: 1>\u001b[1;34m()\u001b[0m\n\u001b[1;32m----> 1\u001b[0m \u001b[38;5;28mprint\u001b[39m(\u001b[43mplayer1\u001b[49m\u001b[38;5;241;43m.\u001b[39;49m\u001b[43mattack\u001b[49m)\n",
      "\u001b[1;31mAttributeError\u001b[0m: 'PlayerCharacter' object has no attribute 'attack'"
     ]
    }
   ],
   "source": [
    "print(player1.attack)\n",
    "#This gives error because attack is only defined for 'player2' object."
   ]
  }
 ],
 "metadata": {
  "kernelspec": {
   "display_name": "Python 3 (ipykernel)",
   "language": "python",
   "name": "python3"
  },
  "language_info": {
   "codemirror_mode": {
    "name": "ipython",
    "version": 3
   },
   "file_extension": ".py",
   "mimetype": "text/x-python",
   "name": "python",
   "nbconvert_exporter": "python",
   "pygments_lexer": "ipython3",
   "version": "3.9.12"
  }
 },
 "nbformat": 4,
 "nbformat_minor": 5
}
